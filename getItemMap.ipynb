{
 "cells": [
  {
   "cell_type": "code",
   "execution_count": 4,
   "id": "1955bacc-6b63-4f99-80f1-d82d4770269d",
   "metadata": {},
   "outputs": [],
   "source": [
    "from DeepRec.modules.data import SessionDataset\n",
    "import os"
   ]
  },
  {
   "cell_type": "code",
   "execution_count": 5,
   "id": "dc39e6d9-d8bc-40a0-9ec6-7b1f82a418e4",
   "metadata": {},
   "outputs": [],
   "source": [
    "def loadData(dataDir, trainName='train.csv', testName='test.csv'):\n",
    "    # load data from npz format to numpy \n",
    "    train_dataset = SessionDataset(path=os.path.join(dataDir,trainName))\n",
    "    test_dataset = SessionDataset(path=os.path.join(dataDir,testName), itemmap=train_dataset.itemmap)\n",
    "    \n",
    "    return train_dataset, test_dataset "
   ]
  },
  {
   "cell_type": "code",
   "execution_count": null,
   "id": "f979fedb-7af7-4782-be07-a7cab7b5b969",
   "metadata": {},
   "outputs": [],
   "source": [
    "trainDs, testDs = loadData('./data')"
   ]
  },
  {
   "cell_type": "code",
   "execution_count": 16,
   "id": "7d851ab6-24db-447f-bb0e-2166de4a24ca",
   "metadata": {},
   "outputs": [],
   "source": [
    "trainDs.itemmap.to_csv('itemmap.csv', index=False)"
   ]
  },
  {
   "cell_type": "code",
   "execution_count": 11,
   "id": "ab41fbec-f857-4fe2-a811-f4823e60a68a",
   "metadata": {},
   "outputs": [],
   "source": [
    "import pandas as pd"
   ]
  },
  {
   "cell_type": "code",
   "execution_count": 17,
   "id": "ec9260e7-9487-48f7-a249-5de24f979122",
   "metadata": {},
   "outputs": [],
   "source": [
    "tmp = pd.read_csv('itemmap.csv')"
   ]
  },
  {
   "cell_type": "code",
   "execution_count": 24,
   "id": "4c995639-389f-4050-9352-fc481df49914",
   "metadata": {},
   "outputs": [
    {
     "data": {
      "text/plain": [
       "item_ID     True\n",
       "item_idx    True\n",
       "dtype: bool"
      ]
     },
     "execution_count": 24,
     "metadata": {},
     "output_type": "execute_result"
    }
   ],
   "source": [
    "(tmp==trainDs.itemmap).all()"
   ]
  },
  {
   "cell_type": "code",
   "execution_count": 22,
   "id": "a0a6a108-868c-4459-8a87-e724525fee33",
   "metadata": {},
   "outputs": [
    {
     "data": {
      "text/plain": [
       "item_ID     int64\n",
       "item_idx    int64\n",
       "dtype: object"
      ]
     },
     "execution_count": 22,
     "metadata": {},
     "output_type": "execute_result"
    }
   ],
   "source": [
    "trainDs.itemmap.dtypes"
   ]
  },
  {
   "cell_type": "code",
   "execution_count": null,
   "id": "a2ff2c2c-50e8-497d-9362-5bcc19ac9ab2",
   "metadata": {},
   "outputs": [],
   "source": []
  }
 ],
 "metadata": {
  "kernelspec": {
   "display_name": "Python 3",
   "language": "python",
   "name": "python3"
  },
  "language_info": {
   "codemirror_mode": {
    "name": "ipython",
    "version": 3
   },
   "file_extension": ".py",
   "mimetype": "text/x-python",
   "name": "python",
   "nbconvert_exporter": "python",
   "pygments_lexer": "ipython3",
   "version": "3.9.6"
  }
 },
 "nbformat": 4,
 "nbformat_minor": 5
}
