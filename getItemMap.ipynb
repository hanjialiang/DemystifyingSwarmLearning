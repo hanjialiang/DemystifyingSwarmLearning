{
 "cells": [
  {
   "cell_type": "code",
   "execution_count": 46,
   "id": "1955bacc-6b63-4f99-80f1-d82d4770269d",
   "metadata": {},
   "outputs": [],
   "source": [
    "from DeepRec.modules.data import SessionDataset, SessionDataLoader\n",
    "import os\n",
    "import numpy as np"
   ]
  },
  {
   "cell_type": "code",
   "execution_count": 2,
   "id": "dc39e6d9-d8bc-40a0-9ec6-7b1f82a418e4",
   "metadata": {},
   "outputs": [],
   "source": [
    "def loadData(dataDir, trainName='train.csv', testName='test.csv'):\n",
    "    # load data from npz format to numpy \n",
    "    train_dataset = SessionDataset(path=os.path.join(dataDir,trainName))\n",
    "    test_dataset = SessionDataset(path=os.path.join(dataDir,testName), itemmap=train_dataset.itemmap)\n",
    "    \n",
    "    return train_dataset, test_dataset "
   ]
  },
  {
   "cell_type": "code",
   "execution_count": 3,
   "id": "f979fedb-7af7-4782-be07-a7cab7b5b969",
   "metadata": {},
   "outputs": [],
   "source": [
    "trainDs, testDs = loadData('/run/user/1024/UBDTR/data')"
   ]
  },
  {
   "cell_type": "code",
   "execution_count": 4,
   "id": "7d851ab6-24db-447f-bb0e-2166de4a24ca",
   "metadata": {},
   "outputs": [],
   "source": [
    "trainDs.itemmap.to_csv('~/storage/UBDTR/data/itemmap.csv', index=False)"
   ]
  },
  {
   "cell_type": "code",
   "execution_count": 5,
   "id": "ab41fbec-f857-4fe2-a811-f4823e60a68a",
   "metadata": {},
   "outputs": [],
   "source": [
    "import pandas as pd"
   ]
  },
  {
   "cell_type": "code",
   "execution_count": 8,
   "id": "a0a6a108-868c-4459-8a87-e724525fee33",
   "metadata": {},
   "outputs": [
    {
     "data": {
      "text/plain": [
       "item_ID     int64\n",
       "item_idx    int64\n",
       "dtype: object"
      ]
     },
     "execution_count": 8,
     "metadata": {},
     "output_type": "execute_result"
    }
   ],
   "source": [
    "trainDs.itemmap.dtypes"
   ]
  },
  {
   "cell_type": "code",
   "execution_count": 10,
   "id": "a2ff2c2c-50e8-497d-9362-5bcc19ac9ab2",
   "metadata": {},
   "outputs": [
    {
     "data": {
      "text/plain": [
       "924756"
      ]
     },
     "execution_count": 10,
     "metadata": {},
     "output_type": "execute_result"
    }
   ],
   "source": [
    "len(trainDs.items)"
   ]
  },
  {
   "cell_type": "code",
   "execution_count": 11,
   "id": "3b26f2fa-821a-4ee4-89ba-57e76f28349c",
   "metadata": {},
   "outputs": [
    {
     "data": {
      "text/plain": [
       "924756"
      ]
     },
     "execution_count": 11,
     "metadata": {},
     "output_type": "execute_result"
    }
   ],
   "source": [
    "len(trainDs.itemmap)"
   ]
  },
  {
   "cell_type": "code",
   "execution_count": 28,
   "id": "d74757f5-bf76-4fbf-96b5-b290fbaebdac",
   "metadata": {},
   "outputs": [],
   "source": [
    "len(trainDs.session_idx_arr)\n",
    "click_offsets = trainDs.click_offsets\n",
    "session_idx_arr = trainDs.session_idx_arr"
   ]
  },
  {
   "cell_type": "code",
   "execution_count": 29,
   "id": "3cc0b153-8011-4878-b4a1-ae6bae0dca79",
   "metadata": {},
   "outputs": [],
   "source": [
    "iters=np.arange(32)"
   ]
  },
  {
   "cell_type": "code",
   "execution_count": 34,
   "id": "93923488-2bca-41c2-955b-285e1124f93b",
   "metadata": {},
   "outputs": [],
   "source": [
    "start = click_offsets[session_idx_arr[iters]]\n",
    "end = click_offsets[session_idx_arr[iters] + 1]"
   ]
  },
  {
   "cell_type": "code",
   "execution_count": 36,
   "id": "3641f18a-b79a-47bd-a4fb-dcd6b55c5fba",
   "metadata": {},
   "outputs": [
    {
     "data": {
      "text/plain": [
       "array([  2,   4,   6,   8,  15,  17,  22,  25,  28,  30,  32,  35,  37,\n",
       "        42,  46, 117, 136, 173, 189, 198, 202, 212, 217, 219, 223, 227,\n",
       "       230, 232, 234, 236, 271, 283], dtype=int32)"
      ]
     },
     "execution_count": 36,
     "metadata": {},
     "output_type": "execute_result"
    }
   ],
   "source": [
    "end"
   ]
  },
  {
   "cell_type": "code",
   "execution_count": 37,
   "id": "a0b7fc6c-cf9d-41f7-944c-7b73e0f3a8ac",
   "metadata": {},
   "outputs": [],
   "source": [
    "minlen = (end - start).min()"
   ]
  },
  {
   "cell_type": "code",
   "execution_count": 43,
   "id": "ae4a96d7-5cab-4a78-ae51-0f0141997c6c",
   "metadata": {},
   "outputs": [
    {
     "data": {
      "text/plain": [
       "array([  0,   2,   4,   6,   8,  14,  16,  19,  22,  25,  27,  29,  32,\n",
       "        34,  39,  43,  87, 105, 104, 104,  85, 143, 152, 157, 143, 159,\n",
       "       162, 165, 167,  48,  69, 172])"
      ]
     },
     "execution_count": 43,
     "metadata": {},
     "output_type": "execute_result"
    }
   ],
   "source": [
    "idx_target = trainDs.df.item_idx.values[start]\n",
    "idx_target"
   ]
  },
  {
   "cell_type": "code",
   "execution_count": 44,
   "id": "e68c97b7-61f1-4f1e-bbce-c2a4eea8fe21",
   "metadata": {},
   "outputs": [
    {
     "data": {
      "text/plain": [
       "array([  1,   3,   5,   7,   9,  16,  18,  23,  26,  29,  31,  33,  36,\n",
       "        38,  43,  47, 118, 137, 174, 190, 199, 203, 213, 218, 220, 224,\n",
       "       228, 231, 233, 235, 237, 272], dtype=int32)"
      ]
     },
     "execution_count": 44,
     "metadata": {},
     "output_type": "execute_result"
    }
   ],
   "source": [
    "# click indices where a particular session meets second-to-last element\n",
    "start = start + (minlen - 1)\n",
    "start"
   ]
  },
  {
   "cell_type": "code",
   "execution_count": 45,
   "id": "dd3d56f6-4b45-4a11-8baf-54935b5b2d72",
   "metadata": {},
   "outputs": [
    {
     "data": {
      "text/plain": [
       "array([ 0,  1,  2,  3,  5,  9, 10, 12, 23, 27, 28, 29])"
      ]
     },
     "execution_count": 45,
     "metadata": {},
     "output_type": "execute_result"
    }
   ],
   "source": [
    "# see if how many sessions should terminate\n",
    "mask = np.arange(len(iters))[(end - start) <= 1]\n",
    "mask"
   ]
  },
  {
   "cell_type": "code",
   "execution_count": 47,
   "id": "5aa90dc0-9b5f-42cc-829d-799ca78b1fac",
   "metadata": {},
   "outputs": [],
   "source": [
    "loader = SessionDataLoader(trainDs, batch_size=32)"
   ]
  },
  {
   "cell_type": "code",
   "execution_count": 56,
   "id": "351393f1-c244-4f28-a33b-d8594cfe3da2",
   "metadata": {},
   "outputs": [],
   "source": [
    "lst = []\n",
    "for x in loader:\n",
    "    lst.append(x)\n",
    "    if len(lst) == 10:\n",
    "        break"
   ]
  },
  {
   "cell_type": "code",
   "execution_count": 57,
   "id": "fe5f54e1-649e-4c77-8b31-9c6e06cd0082",
   "metadata": {},
   "outputs": [
    {
     "data": {
      "text/plain": [
       "[(tensor([  0,   2,   4,   6,   8,  14,  16,  19,  22,  25,  27,  29,  32,  34,\n",
       "           39,  43,  87, 105, 104, 104,  85, 143, 152, 157, 143, 159, 162, 165,\n",
       "          167,  48,  69, 172]),\n",
       "  tensor([  1,   3,   5,   7,   9,  15,  17,  20,  23,  26,  28,  30,  33,  35,\n",
       "           40,  44,  53, 106, 136, 144,  86, 144, 153, 158, 150, 160, 163, 166,\n",
       "          168,  49, 169, 173]),\n",
       "  []),\n",
       " (tensor([197, 201, 205, 211,   9, 224,  17,  20,  23, 229, 237,  30, 239,  35,\n",
       "           40,  44,  53, 106, 136, 144,  86, 144, 153, 241, 150, 160, 163, 240,\n",
       "          255, 259, 169, 173]),\n",
       "  tensor([198, 202, 206, 212,   9, 209,  16,  21,  24, 230, 238,  31, 240,  36,\n",
       "           41,  45,  88, 107, 137, 146, 148, 143, 154, 242,  48, 158, 164, 250,\n",
       "          256, 260,  53, 190]),\n",
       "  array([ 0,  1,  2,  3,  5,  9, 10, 12, 23, 27, 28, 29])),\n",
       " (tensor([198, 202, 206, 212,   9, 209,  16, 265, 267, 230, 268, 272, 276,  36,\n",
       "           41,  45,  88, 107, 137, 146, 148, 143, 154, 242,  48, 158, 272, 250,\n",
       "          256, 260,  53, 190]),\n",
       "  tensor([199, 203, 207, 206,  10, 225,  16, 266, 262, 231, 269, 273, 262,  37,\n",
       "           42,  46,  89, 108, 138, 143, 149, 150, 155, 243,  49, 161, 278, 251,\n",
       "          257, 261, 170, 191]),\n",
       "  array([ 7,  8, 10, 11, 12, 26])),\n",
       " (tensor([199, 203, 207, 206,  10, 225,  16, 279, 282, 231, 269, 273, 262,  37,\n",
       "          285,  46,  89, 108, 138, 143, 286, 150, 155, 243, 288, 291, 261, 251,\n",
       "          257, 261, 170, 191]),\n",
       "  tensor([200, 204, 208, 213,  11, 226,  18, 274, 283, 232, 270, 274, 277,  38,\n",
       "          276,  47,  90, 109, 139, 144, 287, 143, 156, 244, 289, 292, 290, 252,\n",
       "          258, 262, 171, 192]),\n",
       "  array([ 7,  8, 14, 20, 24, 25, 26])),\n",
       " (tensor([290, 276, 208, 213,  11, 226, 301, 274, 283, 232, 270, 274, 304, 307,\n",
       "          276,  47,  90, 109, 139, 144, 323, 143, 314, 244, 289, 330, 290, 252,\n",
       "          341, 262, 171, 192]),\n",
       "  tensor([299, 300, 209, 212,  12, 227, 302, 280, 284, 233, 271, 275, 305, 308,\n",
       "          285,  48,  91, 110,  99, 143, 324, 151, 328, 245, 261, 331, 276, 253,\n",
       "          342, 263, 172, 193]),\n",
       "  array([ 0,  1,  6, 12, 13, 20, 22, 25, 28])),\n",
       " (tensor([345, 354, 209, 212,  12, 227, 302, 280, 355, 233, 353, 359, 305, 308,\n",
       "          364,  48,  91, 110,  99, 143, 324, 151, 328, 245, 261, 331, 276, 253,\n",
       "          342, 263, 172, 193]),\n",
       "  tensor([353, 345, 210, 214,  13, 222, 303, 281, 353, 234, 335, 358, 306, 309,\n",
       "          365,  49,  92, 111, 140, 144, 325, 141, 329, 246, 290, 332, 293, 254,\n",
       "          343, 264, 171, 194]),\n",
       "  array([ 0,  1,  8, 10, 11, 14])),\n",
       " (tensor([366, 345, 372, 214, 382, 222, 384, 390, 353, 234, 335, 358, 395, 309,\n",
       "          398,  49,  92, 111, 140, 144, 325, 141, 401, 246, 290, 332, 293, 416,\n",
       "          343, 418, 171, 194]),\n",
       "  tensor([367, 348, 373, 215, 383, 228, 385, 391, 356, 235, 357, 360, 396, 310,\n",
       "          399,  50,  93, 112, 141, 143, 326, 142, 402, 247, 276, 333, 294, 417,\n",
       "          344, 419, 173, 195]),\n",
       "  array([ 0,  2,  4,  6,  7, 12, 14, 22, 27, 29])),\n",
       " (tensor([367, 348, 373, 215, 425, 428, 385, 391, 356, 235, 357, 360, 396, 310,\n",
       "          399,  50,  93, 112, 141, 143, 326, 142, 402, 247, 433, 333, 294, 436,\n",
       "          344, 419, 173, 195]),\n",
       "  tensor([366, 346, 374, 216, 426, 429, 386, 392, 335, 236, 347, 361, 397, 311,\n",
       "          400,  48,  94, 113, 142, 144, 327,  97, 403, 219, 434, 330, 295, 437,\n",
       "          343, 420, 174, 196]),\n",
       "  array([ 4,  5, 24, 27])),\n",
       " (tensor([366, 445, 374, 216, 426, 429, 386, 392, 447, 453, 347, 361, 397, 311,\n",
       "          400,  48,  94, 113, 142, 459, 447,  97, 403, 219, 434, 330, 295, 437,\n",
       "          343, 420, 174, 196]),\n",
       "  tensor([368, 446, 375, 217, 427, 430, 387, 393, 448, 454, 349, 362, 397, 312,\n",
       "          399,  51,  95, 114, 143, 460, 462, 143, 404, 248, 435, 334, 296, 438,\n",
       "          345, 421, 161,  41]),\n",
       "  array([ 1,  8,  9, 19, 20])),\n",
       " (tensor([368, 446, 375, 217, 427, 430, 387, 393, 448, 454, 349, 362, 467, 312,\n",
       "          399,  51,  95, 114, 143, 460, 462, 470, 404, 248, 435, 334, 296, 438,\n",
       "          345, 421, 161,  41]),\n",
       "  tensor([369, 445, 331, 218, 425, 431, 388, 394, 449, 455, 345, 363, 468, 313,\n",
       "          397,  42,  96, 115, 144, 461, 463, 471, 405, 249, 434, 335, 297, 439,\n",
       "          346, 422, 158, 194]),\n",
       "  array([12, 21]))]"
      ]
     },
     "execution_count": 57,
     "metadata": {},
     "output_type": "execute_result"
    }
   ],
   "source": [
    "lst"
   ]
  },
  {
   "cell_type": "code",
   "execution_count": null,
   "id": "ed052a88-de5f-4b49-b2d7-e4c86072c09a",
   "metadata": {},
   "outputs": [],
   "source": []
  }
 ],
 "metadata": {
  "kernelspec": {
   "display_name": "Python 3 (ipykernel)",
   "language": "python",
   "name": "python3"
  },
  "language_info": {
   "codemirror_mode": {
    "name": "ipython",
    "version": 3
   },
   "file_extension": ".py",
   "mimetype": "text/x-python",
   "name": "python",
   "nbconvert_exporter": "python",
   "pygments_lexer": "ipython3",
   "version": "3.9.6"
  }
 },
 "nbformat": 4,
 "nbformat_minor": 5
}
