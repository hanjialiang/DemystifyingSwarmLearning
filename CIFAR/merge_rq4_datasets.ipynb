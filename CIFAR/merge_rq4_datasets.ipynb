{
 "cells": [
  {
   "cell_type": "code",
   "execution_count": 1,
   "source": [
    "import numpy as np\n",
    "from pathlib import Path\n",
    "from os.path import join as ospj"
   ],
   "outputs": [],
   "metadata": {}
  },
  {
   "cell_type": "code",
   "execution_count": 2,
   "source": [
    "basedir = 'RQ4-SplitResults-3/{}'\n",
    "npz_name = 'cifar10.npz'"
   ],
   "outputs": [],
   "metadata": {}
  },
  {
   "cell_type": "code",
   "execution_count": 3,
   "source": [
    "loaded = np.load(ospj(basedir.format(0), npz_name))"
   ],
   "outputs": [],
   "metadata": {}
  },
  {
   "cell_type": "code",
   "execution_count": 4,
   "source": [
    "train_images = loaded['train_images']\n",
    "train_labels = loaded['train_labels']\n",
    "test_images = loaded['test_images']\n",
    "test_labels = loaded['test_labels']"
   ],
   "outputs": [],
   "metadata": {}
  },
  {
   "cell_type": "code",
   "execution_count": 5,
   "source": [
    "for i in range(1, 3):\n",
    "    loaded = np.load(ospj(basedir.format(i), npz_name))\n",
    "    train_images = np.concatenate([train_images, loaded['train_images']])\n",
    "    train_labels = np.concatenate([train_labels, loaded['train_labels']])"
   ],
   "outputs": [],
   "metadata": {}
  },
  {
   "cell_type": "code",
   "execution_count": 7,
   "source": [
    "print(train_images.shape)"
   ],
   "outputs": [
    {
     "output_type": "stream",
     "name": "stdout",
     "text": [
      "(50000, 32, 32, 3)\n"
     ]
    }
   ],
   "metadata": {}
  },
  {
   "cell_type": "code",
   "execution_count": 6,
   "source": [
    "dirname = basedir.format('all')\n",
    "Path(dirname).mkdir(exist_ok=True, parents=True)\n",
    "np.savez_compressed(\n",
    "    ospj(dirname, npz_name),\n",
    "    train_images=train_images,\n",
    "    train_labels=train_labels,\n",
    "    test_images=test_images,\n",
    "    test_labels=test_labels\n",
    ")"
   ],
   "outputs": [],
   "metadata": {}
  },
  {
   "cell_type": "code",
   "execution_count": null,
   "source": [],
   "outputs": [],
   "metadata": {}
  }
 ],
 "metadata": {
  "orig_nbformat": 4,
  "language_info": {
   "name": "python",
   "version": "3.9.5",
   "mimetype": "text/x-python",
   "codemirror_mode": {
    "name": "ipython",
    "version": 3
   },
   "pygments_lexer": "ipython3",
   "nbconvert_exporter": "python",
   "file_extension": ".py"
  },
  "kernelspec": {
   "name": "python3",
   "display_name": "Python 3.9.5 64-bit ('python39': conda)"
  },
  "interpreter": {
   "hash": "a4cb7d616bfb3a17907725a4a53e58273ef9a6a96e08090c3a7874ada81a7810"
  }
 },
 "nbformat": 4,
 "nbformat_minor": 2
}