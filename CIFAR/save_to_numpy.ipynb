{
 "cells": [
  {
   "cell_type": "code",
   "execution_count": 4,
   "source": [
    "import tensorflow as tf\n",
    "\n",
    "from tensorflow.keras import datasets, layers, models\n",
    "import matplotlib.pyplot as plt\n",
    "# import configparser\n",
    "import json\n",
    "import numpy as np\n",
    "import pathlib"
   ],
   "outputs": [],
   "metadata": {}
  },
  {
   "cell_type": "code",
   "execution_count": 2,
   "source": [
    "(train_images, train_labels), (test_images, test_labels) = datasets.cifar10.load_data()"
   ],
   "outputs": [],
   "metadata": {}
  },
  {
   "cell_type": "code",
   "execution_count": 5,
   "source": [
    "pathlib.Path('data').mkdir(exist_ok=True)"
   ],
   "outputs": [],
   "metadata": {}
  },
  {
   "cell_type": "code",
   "execution_count": 6,
   "source": [
    "np.save('data/train_images.npy', train_images)\n",
    "np.save('data/train_labels.npy', train_labels)\n",
    "np.save('data/test_images.npy', test_images)\n",
    "np.save('data/test_labels.npy', test_labels)"
   ],
   "outputs": [],
   "metadata": {}
  },
  {
   "cell_type": "code",
   "execution_count": 7,
   "source": [
    "np.savez_compressed('data/cifar10.npz', train_images=train_images, train_labels=train_labels, test_images=test_images, test_labels=test_labels)"
   ],
   "outputs": [],
   "metadata": {}
  }
 ],
 "metadata": {
  "orig_nbformat": 4,
  "language_info": {
   "name": "python",
   "version": "3.9.5",
   "mimetype": "text/x-python",
   "codemirror_mode": {
    "name": "ipython",
    "version": 3
   },
   "pygments_lexer": "ipython3",
   "nbconvert_exporter": "python",
   "file_extension": ".py"
  },
  "kernelspec": {
   "name": "python3",
   "display_name": "Python 3.9.5 64-bit ('python39': conda)"
  },
  "interpreter": {
   "hash": "a4cb7d616bfb3a17907725a4a53e58273ef9a6a96e08090c3a7874ada81a7810"
  }
 },
 "nbformat": 4,
 "nbformat_minor": 2
}